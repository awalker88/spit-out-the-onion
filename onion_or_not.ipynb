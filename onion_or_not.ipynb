{
 "cells": [
  {
   "cell_type": "markdown",
   "metadata": {},
   "source": [
    "# Onion or Not\n",
    "\n",
    "The inspiration for this project was [Luke Feilberg](https://github.com/lukefeilberg/onion) data of reddit titles (headlines) from two subreddits: [r/TheOnion](https://www.reddit.com/r/TheOnion/) and [r/NotTheOnion](https://www.reddit.com/r/nottheonion/).\n",
    "r/TheOnion is a collection of the most popular articles from [The Onion](https://www.theonion.com/), a satirical news\n",
    "website. Submissions to r/NotTheOnion are instead articles from various news sources that, while legitimate, \"are so mind-blowingly ridiculous that you could have sworn they were from The Onion\". This presents an interesting\n",
    "classification problem: can an algorithm tell the difference between satirical headlines and headlines that reddit users\n",
    "think <i>could</i> be satirical.\n",
    "\n",
    "The [original dataset](https://github.com/lukefeilberg/onion/blob/master/OnionOrNot.csv) contained 24,000 records, but using the method Luke built for pulling data, I gathered an additional\n",
    "6,000 records to make the dataset balanced with 15,000 r/TheOnion headlines and 15,000 r/NotTheOnion headlines.\n",
    "\n",
    "Onion articles are often reposted on social media and misidentified by users as legitimate headlines, leading to confusion. Those confused users are said to have \"ate the onion\", so perhaps this model could be used help them spit it back out :)"
   ]
  },
  {
   "cell_type": "markdown",
   "metadata": {},
   "source": [
    "Some examples of Onion headlines:\n",
    "[27-Year-Old Lies About Every Single Aspect Of His Life To Keep Parents From Worrying](https://local.theonion.com/27-year-old-lies-about-every-single-aspect-of-his-life-1819575793)\n",
    "[More People Should Have Donated: Wikipedia Has Announced They Will Be Forced To Take Down Their Entry For ‘Ostrich’ Due To Lack Of Funding](https://news.clickhole.com/more-people-should-have-donated-wikipedia-has-announce-1838637936)\n",
    "[CIA Realizes It's Been Using Black Highlighters All These Years](https://politics.theonion.com/cia-realizes-its-been-using-black-highlighters-all-thes-1819568147)\n",
    "\n",
    "Some examples of Not The Onion headlines:\n",
    "[UPS Loses Family's \\\\$846K Inheritance, Offers to Refund \\\\$32 Shipping Fee](https://www.abc.net.au/triplej/programs/hack/2020-edelman-trust-barometer-shows-growing-sense-of-inequality/11883788?fbclid=IwAR09iusXpbCQ6BM5Fmsk4MVBN3OWIk2L5E8UbQKFwjg6nWpLHKgMGP2UTfM)\n",
    "[Distilleries using high-proof alcohol to make hand sanitizer](https://abcnews.go.com/Business/wireStory/distilleries-high-proof-alcohol-make-hand-sanitizer-69632364)\n",
    "[People no longer believe working hard will lead to a better life, survey shows](https://www.abc.net.au/triplej/programs/hack/2020-edelman-trust-barometer-shows-growing-sense-of-inequality/11883788?fbclid=IwAR09iusXpbCQ6BM5Fmsk4MVBN3OWIk2L5E8UbQKFwjg6nWpLHKgMGP2UTfM)"
   ]
  },
  {
   "cell_type": "code",
   "execution_count": 1,
   "metadata": {
    "pycharm": {
     "name": "#%%\n"
    }
   },
   "outputs": [
    {
     "name": "stderr",
     "output_type": "stream",
     "text": [
      "Using TensorFlow backend.\n"
     ]
    }
   ],
   "source": [
    "# Imports\n",
    "import numpy as np\n",
    "import pandas as pd\n",
    "from xgboost import XGBClassifier\n",
    "from sklearn.model_selection import train_test_split, GridSearchCV, cross_val_score\n",
    "from sklearn.linear_model import LogisticRegression\n",
    "from sklearn.metrics import confusion_matrix\n",
    "from sklearn.ensemble import RandomForestClassifier\n",
    "from keras.models import Sequential\n",
    "from keras.layers import Dense\n",
    "from keras.regularizers import l2\n",
    "from keras.callbacks import EarlyStopping\n",
    "from tqdm import tqdm\n",
    "import torch\n",
    "import transformers as hft\n",
    "import matplotlib.pyplot as plt\n",
    "import seaborn as sns\n",
    "import textstat\n",
    "import warnings\n",
    "from sklearn.exceptions import ConvergenceWarning\n",
    "\n",
    "warnings.filterwarnings(action='ignore', category=ConvergenceWarning)\n",
    "warnings.filterwarnings(action='ignore', category=FutureWarning)\n",
    "pd.set_option('max_colwidth', 250)\n",
    "tqdm.pandas()"
   ]
  },
  {
   "cell_type": "markdown",
   "metadata": {},
   "source": [
    "## Load in the saved data"
   ]
  },
  {
   "cell_type": "code",
   "execution_count": 2,
   "metadata": {
    "pycharm": {
     "name": "#%%\n"
    }
   },
   "outputs": [
    {
     "name": "stdout",
     "output_type": "stream",
     "text": [
      "Number of r/TheOnion headlines: 15000\n",
      "Number of r/NotTheOnion headlines: 15000\n"
     ]
    }
   ],
   "source": [
    "data = pd.read_csv('OnionOrNot_large.csv')\n",
    "\n",
    "print(f'Number of r/TheOnion headlines: {len(data[data[\"label\"] == 1])}')\n",
    "print(f'Number of r/NotTheOnion headlines: {len(data[data[\"label\"] == 0])}')"
   ]
  },
  {
   "cell_type": "markdown",
   "metadata": {},
   "source": [
    "## Some light Data Cleaning"
   ]
  },
  {
   "cell_type": "code",
   "execution_count": 3,
   "metadata": {
    "pycharm": {
     "name": "#%%\n"
    }
   },
   "outputs": [
    {
     "name": "stdout",
     "output_type": "stream",
     "text": [
      "Number of r/TheOnion headlines after cleaning: 14889\n",
      "Number of r/NotTheOnion headlines after cleaning: 14984\n"
     ]
    }
   ],
   "source": [
    "# remove all headlines with length less than 15, as most below that limit seem to be nonsense/errors\n",
    "data = data[data['text'].str.len() >= 15]\n",
    "\n",
    "# several headlines are accidentally links, so remove headlines that start with 'https://'\n",
    "data = data[~data['text'].str.startswith('https://')]\n",
    "data = data.reset_index(drop=True)\n",
    "\n",
    "batches = np.array_split(data, 30) # split into parts so we can batch load them through DistilBERT\n",
    "\n",
    "print(f'Number of r/TheOnion headlines after cleaning: {len(data[data[\"label\"] == 1])}')\n",
    "print(f'Number of r/NotTheOnion headlines after cleaning: {len(data[data[\"label\"] == 0])}')"
   ]
  },
  {
   "cell_type": "markdown",
   "metadata": {},
   "source": [
    "## Feature engineering"
   ]
  },
  {
   "cell_type": "markdown",
   "metadata": {},
   "source": [
    "Number of words in headline"
   ]
  },
  {
   "cell_type": "code",
   "execution_count": 4,
   "metadata": {
    "pycharm": {
     "name": "#%%\n"
    }
   },
   "outputs": [
    {
     "name": "stdout",
     "output_type": "stream",
     "text": [
      "Average number of words in r/TheOnion: 13.52\n",
      "Average number of words in r/NotTheOnion: 11.12\n"
     ]
    }
   ],
   "source": [
    "def num_words(x):\n",
    "    return len(x.split(' '))\n",
    "\n",
    "data['num_words'] = data['text'].apply(num_words)\n",
    "\n",
    "print(f'Average number of words in r/TheOnion: {data[data[\"label\"] == 1][\"num_words\"].mean():.2f}')\n",
    "print(f'Average number of words in r/NotTheOnion: {data[data[\"label\"] == 0][\"num_words\"].mean():.2f}')"
   ]
  },
  {
   "cell_type": "markdown",
   "metadata": {},
   "source": [
    "Whether the headline contains the word 'onion'. Many of The Onion's headlines are something like: \"Welcome To Onion Social, The Onion's New Social Media Platform\", so this could be predictive."
   ]
  },
  {
   "cell_type": "code",
   "execution_count": 5,
   "metadata": {
    "pycharm": {
     "name": "#%%\n"
    }
   },
   "outputs": [
    {
     "name": "stdout",
     "output_type": "stream",
     "text": [
      "Number of r/TheOnion articles with \"onion\" in title: 501\n",
      "Number of r/NotTheOnion articles with \"onion\" in title: 54\n"
     ]
    }
   ],
   "source": [
    "def contains_onion(x):\n",
    "    if 'onion' in x.lower():\n",
    "        return 1\n",
    "    else:\n",
    "        return 0\n",
    "\n",
    "data['contains_onion'] = data['text'].apply(contains_onion)\n",
    "\n",
    "print(f'Number of r/TheOnion articles with \"onion\" in title: {data[(data[\"contains_onion\"] == 1) & (data[\"label\"] == 1)][\"contains_onion\"].count()}')\n",
    "print(f'Number of r/NotTheOnion articles with \"onion\" in title: {data[(data[\"contains_onion\"] == 1) & (data[\"label\"] == 0)][\"contains_onion\"].count()}')"
   ]
  },
  {
   "cell_type": "markdown",
   "metadata": {},
   "source": [
    "Calculates the grade level needed to read the title with [textstat](https://pypi.org/project/textstat/), which combines many metrics into one. Most of those metrics use things like number of syllables, characters per word, number of predefined \"easy\" words, etc."
   ]
  },
  {
   "cell_type": "code",
   "execution_count": 6,
   "metadata": {
    "pycharm": {
     "name": "#%%\n"
    }
   },
   "outputs": [
    {
     "name": "stdout",
     "output_type": "stream",
     "text": [
      "Average readability in r/TheOnion: 8.32\n",
      "Average readability in r/NotTheOnion: 7.73\n"
     ]
    },
    {
     "data": {
      "text/plain": [
       "<matplotlib.legend.Legend at 0x1f9aa89a4c8>"
      ]
     },
     "execution_count": 6,
     "metadata": {},
     "output_type": "execute_result"
    },
    {
     "data": {
      "image/png": "[encoded data removed]",
      "text/plain": [
       "<Figure size 432x288 with 1 Axes>"
      ]
     },
     "metadata": {
      "needs_background": "light"
     },
     "output_type": "display_data"
    }
   ],
   "source": [
    "# readability of headline (cap of 20, as it's supposed to correspond to grade level)\n",
    "def readability(x):\n",
    "    txt_stand = textstat.text_standard(x, float_output=True)\n",
    "    if txt_stand > 20:\n",
    "        return 20\n",
    "    else:\n",
    "        return txt_stand\n",
    "\n",
    "data['readability'] = data['text'].apply(readability)\n",
    "\n",
    "print(f'Average readability in r/TheOnion: {data[data[\"label\"] == 1][\"readability\"].mean():.2f}')\n",
    "print(f'Average readability in r/NotTheOnion: {data[data[\"label\"] == 0][\"readability\"].mean():.2f}')\n",
    "\n",
    "# plot distribution of readability\n",
    "onion_data = data[data['label'] == 1]\n",
    "not_the_onion_data = data[data['label'] == 0]\n",
    "\n",
    "sns.distplot(onion_data['readability'], bins=20, kde=False, label='Onion')\n",
    "sns.distplot(not_the_onion_data['readability'], bins=20, kde=False, label='r/NotTheOnion')\n",
    "plt.title('Readability')\n",
    "plt.legend()"
   ]
  },
  {
   "cell_type": "markdown",
   "metadata": {},
   "source": [
    "Percent of words that are uppercase"
   ]
  },
  {
   "cell_type": "code",
   "execution_count": 7,
   "metadata": {
    "pycharm": {
     "name": "#%%\n"
    }
   },
   "outputs": [
    {
     "name": "stdout",
     "output_type": "stream",
     "text": [
      "Average percent of words that are capitalized in r/TheOnion articles: 92.80%\n",
      "Average percent of words that are capitalized in r/NotTheOnion articles: 37.15%\n"
     ]
    },
    {
     "data": {
      "text/plain": [
       "<matplotlib.legend.Legend at 0x1f9aa9dc548>"
      ]
     },
     "execution_count": 7,
     "metadata": {},
     "output_type": "execute_result"
    },
    {
     "data": {
      "image/png": "[encoded data removed]",
      "text/plain": [
       "<Figure size 432x288 with 1 Axes>"
      ]
     },
     "metadata": {
      "needs_background": "light"
     },
     "output_type": "display_data"
    }
   ],
   "source": [
    "def percent_uppercase(x):\n",
    "    n_words = x['num_words']\n",
    "    num_upper = 0\n",
    "    for word in x['text'].split(' '):\n",
    "        if len(word) > 0 and word[0].isupper() :\n",
    "            num_upper += 1\n",
    "\n",
    "    return num_upper / n_words\n",
    "\n",
    "data['percent_uppercase'] = data.apply(percent_uppercase, axis=1)\n",
    "\n",
    "print(f'Average percent of words that are capitalized in r/TheOnion articles: {100 * data[data[\"label\"] == 1][\"percent_uppercase\"].mean():.2f}%')\n",
    "print(f'Average percent of words that are capitalized in r/NotTheOnion articles: {100 * data[data[\"label\"] == 0][\"percent_uppercase\"].mean():.2f}%')\n",
    "\n",
    "\n",
    "onion_data = data[data['label'] == 1]\n",
    "not_the_onion_data = data[data['label'] == 0]\n",
    "\n",
    "# plot distribution of percent uppercase\n",
    "sns.distplot(onion_data['percent_uppercase'], bins=10, kde=False, label='r/TheOnion')\n",
    "sns.distplot(not_the_onion_data['percent_uppercase'], bins=10, kde=False, label='r/NotTheOnion')\n",
    "plt.title('Percent of words that are uppercase Onion Articles')\n",
    "plt.legend()"
   ]
  },
  {
   "cell_type": "markdown",
   "metadata": {},
   "source": [
    "### percent_uppercase: too good of a predictor\n",
    "It would turn out that `percent_uppercase` is a pretty predictive feature. Most r/TheOnion headlines capitalize almost every word,\n",
    "while r/NotTheOnion is more inconsistent.\n",
    "\n",
    "I want to take a step back though and think about why that might be. Remember that these headlines are actually the\n",
    "<i>titles</i> of Reddit posts. r/NotTheOnion specifies that title of the post must be <b>exactly</b> the same as the\n",
    "news article's headline. r/TheOnion does not have any similar rules posted in their subreddit. Thus, this pattern could\n",
    "be affected by each subreddit's users or moderator behavior.\n",
    "\n",
    "I would also like our model closer to a general satire classifier than a \"r/NotTheOnion vs r/TheOnion\" classifier, so I\n",
    "remove `percent_uppercase` from our list of features as it will probably cause our model to be overfit to this\n",
    "particular dataset."
   ]
  },
  {
   "cell_type": "code",
   "execution_count": 8,
   "metadata": {
    "pycharm": {
     "name": "#%%\n"
    }
   },
   "outputs": [],
   "source": [
    "data = data.drop('percent_uppercase', axis=1)"
   ]
  },
  {
   "cell_type": "markdown",
   "metadata": {},
   "source": [
    "# First Model\n",
    "I manually tried to classify 100 headlines and ended up with 81 correct. While not super scientific, I think that\n",
    "represents a decent benchmark for how we'd want a model to perform.\n",
    "\n",
    "Let's see how some easy-to-make models like logistic regression and a random forest classifier fair using the features\n",
    "we created."
   ]
  },
  {
   "cell_type": "code",
   "execution_count": 9,
   "metadata": {
    "pycharm": {
     "name": "#%%\n"
    }
   },
   "outputs": [
    {
     "name": "stdout",
     "output_type": "stream",
     "text": [
      "LogisticRegression Train Accuracy: 0.6173517204445039\n",
      "RandomForestClassifier Train Accuracy: 0.6517606105234971\n"
     ]
    }
   ],
   "source": [
    "# split up data\n",
    "labels = data['label']\n",
    "features = data[['num_words', 'contains_onion', 'readability']]\n",
    "train_features, test_features, train_labels, test_labels = train_test_split(features, labels, test_size=0.25)\n",
    "\n",
    "# logistic regression\n",
    "first_lr_model = LogisticRegression()\n",
    "first_lr_model.fit(train_features, train_labels)\n",
    "print(f'LogisticRegression Train Accuracy: {first_lr_model.score(test_features, test_labels)}')\n",
    "\n",
    "# random forest\n",
    "first_rf_model = RandomForestClassifier()\n",
    "first_rf_model.fit(train_features, train_labels)\n",
    "print(f'RandomForestClassifier Train Accuracy: {first_rf_model.score(test_features, test_labels)}')"
   ]
  },
  {
   "cell_type": "markdown",
   "metadata": {},
   "source": [
    "While these features and models are better than random chance, 62-65% accuracy is not very close to my \"human level\" accuracy of 81%. Luckily, there have been some great advancements in NLP in recent years that do a better job of taking into account the meanings of words in our headlines."
   ]
  },
  {
   "cell_type": "markdown",
   "metadata": {},
   "source": [
    "# DistilBERT\n",
    "\n",
    "[BERT](https://github.com/google-research/bert) was a new NLP model released by Google in late 2018. It was a huge leap\n",
    "in the way we treat NLP, bringing together new ideas like attention and transformers in a way that helped get it some\n",
    "of the highest accuracy scores on many metrics.\n",
    "\n",
    "For our purpose of classifying Onion articles, we'll use Hugging Face's [DistilBERT](https://huggingface.co/transformers/model_doc/distilbert.html),\n",
    "a version of BERT that preserves over 95% of BERT's accuracy while still being able to comfortably run on a laptop.\n",
    "From their package, we'll use two functions:\n",
    "\n",
    "\n",
    " - `db_tokenizer` is what will turn our text into a list of 'tokens' (eg.\"I didn't go to the supermarket\" turns into \\[\"I\", \"didn't\", \"go\", \"to\", \"the\", \"supermarket\"\\]).\n",
    "   - Note that it will continue to split the sentence up until it only contains tokens that are in the DistilBERT\n",
    "   dataset. For words it doesn't know, like the word \"counterpoint\", this is alright as it gets split into \"counter\" and \"point\". That looks reasonable. There are many words  this does not work for. \"Hulu\", for example, gets split into \"hu\" and \"lu\".\n",
    "\n",
    " - `db_model` is the DistilBERT model that we feed our tokens into to get our sentence representations"
   ]
  },
  {
   "cell_type": "code",
   "execution_count": 10,
   "metadata": {
    "pycharm": {
     "name": "#%%\n"
    }
   },
   "outputs": [],
   "source": [
    "db_tokenizer = hft.DistilBertTokenizer\n",
    "db_model = hft.DistilBertModel\n",
    "\n",
    "# Load pretrained model/tokenizer\n",
    "db_tokenizer = db_tokenizer.from_pretrained('distilbert-base-uncased')\n",
    "db_model = db_model.from_pretrained('distilbert-base-uncased')"
   ]
  },
  {
   "cell_type": "markdown",
   "metadata": {},
   "source": [
    "## Tokenize and encode the titles\n",
    "To feed our titles into DistilBERT, they first need to be [tokenized](https://nlp.stanford.edu/IR-book/html/htmledition/tokenization-1.html). The tokenizer also adds a \"[CLS]\" token at the beginning and a \"[SEP]\" token at the end, which the model would use to know how to separate sentences if our text contained multiple sentences.\n",
    "\n",
    "Of course, the DistilBERT model has to take in numbers as input, so we actually use `db_tokenizer.encode_plus()`,\n",
    "which gives us the index of each token instead of the actual text string. It also provides the attention mask,\n",
    "which we'll use later.\n"
   ]
  },
  {
   "cell_type": "code",
   "execution_count": 11,
   "metadata": {
    "pycharm": {
     "name": "#%%\n"
    }
   },
   "outputs": [
    {
     "name": "stderr",
     "output_type": "stream",
     "text": [
      "100%|██████████| 30/30 [00:08<00:00,  3.58it/s]"
     ]
    },
    {
     "name": "stdout",
     "output_type": "stream",
     "text": [
      "Max tokenized length for first batch: 44\n",
      "Ex. Tokenized/encoded version: [101, 2053, 2062, 3097, 7570, 2229, 1010, 8183, 24144, 2072, 2758, 102, 0, 0, 0, 0, 0, 0, 0, 0, 0, 0, 0, 0, 0, 0, 0, 0, 0, 0, 0, 0, 0, 0, 0, 0, 0, 0, 0, 0, 0, 0, 0, 0]\n",
      "Ex. Original sentence: [CLS] no more foreign hoes, jokowi says [SEP] [PAD] [PAD] [PAD] [PAD] [PAD] [PAD] [PAD] [PAD] [PAD] [PAD] [PAD] [PAD] [PAD] [PAD] [PAD] [PAD] [PAD] [PAD] [PAD] [PAD] [PAD] [PAD] [PAD] [PAD] [PAD] [PAD] [PAD] [PAD] [PAD] [PAD] [PAD] [PAD]\n"
     ]
    },
    {
     "name": "stderr",
     "output_type": "stream",
     "text": [
      "\n"
     ]
    }
   ],
   "source": [
    "tokenized_batches = []\n",
    "for batch in tqdm(batches):\n",
    "    # get the length of the longest tokenized headline in this batch so we can pass that length to db_tokenizer.encode_plus()\n",
    "    batch['tokenized'] = batch['text'].apply(lambda x: db_tokenizer.tokenize(x, add_special_tokens=True))\n",
    "    max_tokens = batch['tokenized'].apply(len).max()\n",
    "\n",
    "    # store dictionary results of db_tokenizer.encode_plus() in a column, then split tokenized and attention_mask into their own columns\n",
    "    batch['sequence_dict'] = batch['tokenized'].apply(lambda x: db_tokenizer.encode_plus(x, add_special_tokens=True, max_length=max_tokens, pad_to_max_length=True))\n",
    "    batch['tokenized'] = batch['sequence_dict'].apply(lambda x: x['input_ids'])\n",
    "    batch['attention_mask'] = batch['sequence_dict'].apply(lambda x: x['attention_mask'])\n",
    "    tokenized_batches.append(batch.drop('sequence_dict', axis='columns'))\n",
    "\n",
    "# show an example encoded title\n",
    "print(f'Max tokenized length for first batch: {len(tokenized_batches[0].loc[0, \"tokenized\"])}')\n",
    "print(f'Ex. Tokenized/encoded version: {tokenized_batches[0].loc[0, \"tokenized\"]}')\n",
    "print(f'Ex. Original sentence: {db_tokenizer.decode(tokenized_batches[0].loc[0, \"tokenized\"])}')"
   ]
  },
  {
   "cell_type": "markdown",
   "metadata": {},
   "source": [
    "## Store tokenized batches as numpy arrays"
   ]
  },
  {
   "cell_type": "code",
   "execution_count": 12,
   "metadata": {
    "pycharm": {
     "name": "#%%\n"
    }
   },
   "outputs": [],
   "source": [
    "input_ids_batches = []\n",
    "for batch in tokenized_batches:\n",
    "    input_ids_batches.append(np.array(batch['tokenized'].tolist()))"
   ]
  },
  {
   "cell_type": "markdown",
   "metadata": {},
   "source": [
    "## Create Attention mask\n",
    "Our model shouldn't consider the \"[PAD]\" tokens when computing attention. When we run our model, we'll use the\n",
    "attention masks provided by `db_tokenizer.encode_plus()` to let the model know to ignore them. See details\n",
    "[here](https://huggingface.co/transformers/glossary.html#attention-mask)"
   ]
  },
  {
   "cell_type": "code",
   "execution_count": 13,
   "metadata": {
    "pycharm": {
     "name": "#%%\n"
    }
   },
   "outputs": [],
   "source": [
    "attention_masks = []\n",
    "for batch in tokenized_batches:\n",
    "    attention_masks.append(np.array(batch['attention_mask'].tolist()))"
   ]
  },
  {
   "cell_type": "markdown",
   "metadata": {},
   "source": [
    "## Now for the fun part!\n",
    "This part puts each of our batches into the DistilBERT model, which will turn our array of headlines into arrays of\n",
    "768-d sentence embeddings. If these sentence embeddings contain useful information (which they have been shown to),\n",
    "then a downstream model should find them useful and should do a better job of classifying whether a headline is from r/TheOnion or r/NotTheOnion. (Note: this step takes about 10 minutes on my laptop)"
   ]
  },
  {
   "cell_type": "code",
   "execution_count": 14,
   "metadata": {
    "pycharm": {
     "name": "#%%\n"
    }
   },
   "outputs": [
    {
     "name": "stderr",
     "output_type": "stream",
     "text": [
      "100%|██████████| 30/30 [11:17<00:00, 22.57s/it]\n"
     ]
    }
   ],
   "source": [
    "last_hidden_states = []\n",
    "\n",
    "for i in tqdm(range(len(input_ids_batches))):\n",
    "    # convert tokenized headlines(which you'll recall are actually the indexes of the tokens) array into a PyTorch tensor\n",
    "    input_ids = torch.tensor(input_ids_batches[i]).to(torch.int64)\n",
    "    # concert attention_mask array into a PyTorch tensor\n",
    "    attention_mask = torch.tensor(attention_masks[i])\n",
    "\n",
    "    # feed these tensors into the DistilBERT model\n",
    "    with torch.no_grad():\n",
    "        last_hidden_states.append(db_model(input_ids, attention_mask=attention_mask))\n",
    "\n",
    "    i += 1"
   ]
  },
  {
   "cell_type": "markdown",
   "metadata": {},
   "source": [
    "By default, the model returns all of the weights for each encoding layer. We only want the last layer's weights to use as our word embeddings, however, so we select the last layer's weights and convert it to numpy with `last_hidden_state[0][:,0,:].numpy()`."
   ]
  },
  {
   "cell_type": "code",
   "execution_count": 15,
   "metadata": {
    "pycharm": {
     "name": "#%%\n"
    }
   },
   "outputs": [],
   "source": [
    "last_layer_features = []\n",
    "for last_hidden_state in last_hidden_states:\n",
    "    last_layer_features.append(last_hidden_state[0][:,0,:].numpy())\n",
    "\n",
    "unbatched_data = pd.DataFrame(np.concatenate(last_layer_features))"
   ]
  },
  {
   "cell_type": "markdown",
   "metadata": {},
   "source": [
    "The final step before building the downstream model is to split into training and test sets"
   ]
  },
  {
   "cell_type": "code",
   "execution_count": 16,
   "metadata": {
    "pycharm": {
     "name": "#%%\n"
    }
   },
   "outputs": [],
   "source": [
    "db_data = data.join(unbatched_data)\n",
    "labels = db_data['label']\n",
    "features = db_data.drop('label', axis='columns')\n",
    "train_features, test_features, train_labels, test_labels = train_test_split(features, labels, test_size=0.25)\n",
    "\n",
    "# take out text as it's not a model feature, but save them so we can see which ones the model got right or wrong\n",
    "train_text, test_text = train_features.pop('text'), test_features.pop('text')"
   ]
  },
  {
   "cell_type": "markdown",
   "metadata": {},
   "source": [
    "## DistilBERT Results\n",
    "Using only an out-of-the-box Logistic Regression model, accuracy is <i>significantly</i> better, jumping up >20 percentage points to about 86%."
   ]
  },
  {
   "cell_type": "code",
   "execution_count": 17,
   "metadata": {
    "pycharm": {
     "name": "#%%\n"
    }
   },
   "outputs": [
    {
     "name": "stdout",
     "output_type": "stream",
     "text": [
      "lr train 0.8743081592572755\n",
      "lr test 0.8539295755790601\n"
     ]
    }
   ],
   "source": [
    "db_lr_clf = LogisticRegression(max_iter=300)\n",
    "db_lr_clf.fit(train_features, train_labels)\n",
    "\n",
    "print('lr train', db_lr_clf.score(train_features, train_labels))\n",
    "print('lr test', db_lr_clf.score(test_features, test_labels))"
   ]
  },
  {
   "cell_type": "markdown",
   "metadata": {},
   "source": [
    "If we plot a confusion matrix, we can see that the model has about the same accuracy for each class"
   ]
  },
  {
   "cell_type": "code",
   "execution_count": 18,
   "metadata": {
    "pycharm": {
     "name": "#%%\n"
    }
   },
   "outputs": [
    {
     "data": {
      "image/png": "[encoded data removed]",
      "text/plain": [
       "<Figure size 432x288 with 2 Axes>"
      ]
     },
     "metadata": {
      "needs_background": "light"
     },
     "output_type": "display_data"
    }
   ],
   "source": [
    "def plot_confusion_matrix(y_pred, y_actual, title):\n",
    "    cm = confusion_matrix(list(y_actual), list(y_pred))\n",
    "    sns.heatmap(cm, linewidths=.5, annot=True, fmt=\"d\", cmap=\"YlGnBu\")\n",
    "    plt.title('Confusion Matrix')\n",
    "    plt.xlabel('Predicted')\n",
    "    plt.ylabel('Actual')\n",
    "    plt.title(title)\n",
    "    plt.show()\n",
    "\n",
    "probabilities = pd.DataFrame(db_lr_clf.predict_proba(test_features), columns=['prob_not_onion', 'prob_onion'])\n",
    "predictions = pd.concat([test_text.reset_index(drop=True), probabilities, test_labels.reset_index(drop=True), test_features.reset_index(drop=True)], axis=1)\n",
    "predictions['prediction'] = predictions['prob_not_onion'].apply(lambda x: 1 if x < 0.5 else 0)\n",
    "plot_confusion_matrix(predictions['prediction'], test_labels, 'lr_clf')"
   ]
  },
  {
   "cell_type": "markdown",
   "metadata": {},
   "source": [
    "### Where did things go wrong?\n",
    "85% isn't bad (it did better than me, after all), but if we want to improve, the first step would be to look at our mistakes.\n",
    "\n",
    "My first observation is that the r/Onion articles it misclassified are not funny"
   ]
  },
  {
   "cell_type": "code",
   "execution_count": 19,
   "metadata": {
    "pycharm": {
     "name": "#%%\n"
    }
   },
   "outputs": [],
   "source": [
    "onion = predictions[predictions['label'] == 1].copy()\n",
    "not_onion = predictions[predictions['label'] == 0].copy()"
   ]
  },
  {
   "cell_type": "markdown",
   "metadata": {},
   "source": [
    "r/TheOnion titles that the model was very sure <i>weren't</i> from the r/TheOnion"
   ]
  },
  {
   "cell_type": "code",
   "execution_count": 20,
   "metadata": {},
   "outputs": [
    {
     "data": {
      "text/html": [
       "<div>\n",
       "<style scoped>\n",
       "    .dataframe tbody tr th:only-of-type {\n",
       "        vertical-align: middle;\n",
       "    }\n",
       "\n",
       "    .dataframe tbody tr th {\n",
       "        vertical-align: top;\n",
       "    }\n",
       "\n",
       "    .dataframe thead th {\n",
       "        text-align: right;\n",
       "    }\n",
       "</style>\n",
       "<table border=\"1\" class=\"dataframe\">\n",
       "  <thead>\n",
       "    <tr style=\"text-align: right;\">\n",
       "      <th></th>\n",
       "      <th>text</th>\n",
       "      <th>prob_not_onion</th>\n",
       "      <th>prediction</th>\n",
       "      <th>label</th>\n",
       "    </tr>\n",
       "  </thead>\n",
       "  <tbody>\n",
       "    <tr>\n",
       "      <th>2285</th>\n",
       "      <td>SAE fraternity at Yale University accused of hosting 'white girls only' party</td>\n",
       "      <td>0.997329</td>\n",
       "      <td>0</td>\n",
       "      <td>1</td>\n",
       "    </tr>\n",
       "    <tr>\n",
       "      <th>5304</th>\n",
       "      <td>Danish radio station criticised for killing baby rabbit on air</td>\n",
       "      <td>0.997261</td>\n",
       "      <td>0</td>\n",
       "      <td>1</td>\n",
       "    </tr>\n",
       "    <tr>\n",
       "      <th>3801</th>\n",
       "      <td>PewDiePie fans storm the Estonian government</td>\n",
       "      <td>0.997225</td>\n",
       "      <td>0</td>\n",
       "      <td>1</td>\n",
       "    </tr>\n",
       "    <tr>\n",
       "      <th>1214</th>\n",
       "      <td>A discount on Nutella has led to violent scenes in a chain of French supermarkets, as shoppers jostled to grab a bargain on the sweet spread</td>\n",
       "      <td>0.995708</td>\n",
       "      <td>0</td>\n",
       "      <td>1</td>\n",
       "    </tr>\n",
       "    <tr>\n",
       "      <th>3403</th>\n",
       "      <td>You cап find сгazу cаsuаl sех hooкup heге</td>\n",
       "      <td>0.995619</td>\n",
       "      <td>0</td>\n",
       "      <td>1</td>\n",
       "    </tr>\n",
       "    <tr>\n",
       "      <th>1304</th>\n",
       "      <td>Swaziland Changes Name To eSwatini</td>\n",
       "      <td>0.995615</td>\n",
       "      <td>0</td>\n",
       "      <td>1</td>\n",
       "    </tr>\n",
       "    <tr>\n",
       "      <th>796</th>\n",
       "      <td>Chimp In Cocaine Study Starts Lying To Friends</td>\n",
       "      <td>0.994994</td>\n",
       "      <td>0</td>\n",
       "      <td>1</td>\n",
       "    </tr>\n",
       "    <tr>\n",
       "      <th>6079</th>\n",
       "      <td>Apparently EDM Music Festivals are ''Satanist'' ( posted by Dumb Christian source)</td>\n",
       "      <td>0.993689</td>\n",
       "      <td>0</td>\n",
       "      <td>1</td>\n",
       "    </tr>\n",
       "    <tr>\n",
       "      <th>6944</th>\n",
       "      <td>French Intellectual Levy Gets Pie in the Face in Serbia</td>\n",
       "      <td>0.992509</td>\n",
       "      <td>0</td>\n",
       "      <td>1</td>\n",
       "    </tr>\n",
       "    <tr>\n",
       "      <th>6661</th>\n",
       "      <td>N.J. police chief said black people are 'like ISIS' and he'd like to be 'on the firing squad,' feds say</td>\n",
       "      <td>0.992227</td>\n",
       "      <td>0</td>\n",
       "      <td>1</td>\n",
       "    </tr>\n",
       "  </tbody>\n",
       "</table>\n",
       "</div>"
      ],
      "text/plain": [
       "                                                                                                                                              text  \\\n",
       "2285                                                                 SAE fraternity at Yale University accused of hosting 'white girls only' party   \n",
       "5304                                                                                Danish radio station criticised for killing baby rabbit on air   \n",
       "3801                                                                                                  PewDiePie fans storm the Estonian government   \n",
       "1214  A discount on Nutella has led to violent scenes in a chain of French supermarkets, as shoppers jostled to grab a bargain on the sweet spread   \n",
       "3403                                                                                                     You cап find сгazу cаsuаl sех hooкup heге   \n",
       "1304                                                                                                            Swaziland Changes Name To eSwatini   \n",
       "796                                                                                                 Chimp In Cocaine Study Starts Lying To Friends   \n",
       "6079                                                            Apparently EDM Music Festivals are ''Satanist'' ( posted by Dumb Christian source)   \n",
       "6944                                                                                       French Intellectual Levy Gets Pie in the Face in Serbia   \n",
       "6661                                       N.J. police chief said black people are 'like ISIS' and he'd like to be 'on the firing squad,' feds say   \n",
       "\n",
       "      prob_not_onion  prediction  label  \n",
       "2285        0.997329           0      1  \n",
       "5304        0.997261           0      1  \n",
       "3801        0.997225           0      1  \n",
       "1214        0.995708           0      1  \n",
       "3403        0.995619           0      1  \n",
       "1304        0.995615           0      1  \n",
       "796         0.994994           0      1  \n",
       "6079        0.993689           0      1  \n",
       "6944        0.992509           0      1  \n",
       "6661        0.992227           0      1  "
      ]
     },
     "execution_count": 20,
     "metadata": {},
     "output_type": "execute_result"
    }
   ],
   "source": [
    "onion.sort_values(by='prob_not_onion', ascending=False)[['text', 'prob_not_onion', 'prediction', 'label']].head(10)"
   ]
  },
  {
   "cell_type": "markdown",
   "metadata": {},
   "source": [
    "r/NotTheOnion titles that the model was very sure <i>were</i> from the r/TheOnion"
   ]
  },
  {
   "cell_type": "code",
   "execution_count": 21,
   "metadata": {
    "pycharm": {
     "name": "#%%\n"
    }
   },
   "outputs": [
    {
     "data": {
      "text/html": [
       "<div>\n",
       "<style scoped>\n",
       "    .dataframe tbody tr th:only-of-type {\n",
       "        vertical-align: middle;\n",
       "    }\n",
       "\n",
       "    .dataframe tbody tr th {\n",
       "        vertical-align: top;\n",
       "    }\n",
       "\n",
       "    .dataframe thead th {\n",
       "        text-align: right;\n",
       "    }\n",
       "</style>\n",
       "<table border=\"1\" class=\"dataframe\">\n",
       "  <thead>\n",
       "    <tr style=\"text-align: right;\">\n",
       "      <th></th>\n",
       "      <th>text</th>\n",
       "      <th>prob_onion</th>\n",
       "      <th>prediction</th>\n",
       "      <th>label</th>\n",
       "    </tr>\n",
       "  </thead>\n",
       "  <tbody>\n",
       "    <tr>\n",
       "      <th>469</th>\n",
       "      <td>I'm looking forward to grass now that my grandson is no longer a swinger</td>\n",
       "      <td>0.992526</td>\n",
       "      <td>1</td>\n",
       "      <td>0</td>\n",
       "    </tr>\n",
       "    <tr>\n",
       "      <th>1009</th>\n",
       "      <td>110-year-old woman’s secret to long life: 3 Miller High Lifes and a shot of Johnnie Walker</td>\n",
       "      <td>0.982999</td>\n",
       "      <td>1</td>\n",
       "      <td>0</td>\n",
       "    </tr>\n",
       "    <tr>\n",
       "      <th>1537</th>\n",
       "      <td>Don't know if Rush Limbaugh is an onion or not but: Rush Limbaugh: Al-Qaeda ‘Gave Up Osama Bin Laden’ To Make ‘Obama Look Good’</td>\n",
       "      <td>0.978596</td>\n",
       "      <td>1</td>\n",
       "      <td>0</td>\n",
       "    </tr>\n",
       "    <tr>\n",
       "      <th>2851</th>\n",
       "      <td>Always wondered when I'd get a weird thing in my Facebook feed. Well, here it is!</td>\n",
       "      <td>0.978507</td>\n",
       "      <td>1</td>\n",
       "      <td>0</td>\n",
       "    </tr>\n",
       "    <tr>\n",
       "      <th>7381</th>\n",
       "      <td>Media Outlets Spitting Mad At Obama For Spoiling Their Plans To Cash In On War</td>\n",
       "      <td>0.977992</td>\n",
       "      <td>1</td>\n",
       "      <td>0</td>\n",
       "    </tr>\n",
       "    <tr>\n",
       "      <th>4495</th>\n",
       "      <td>What a perfect pair! Puppies born GREEN for no apparent reason</td>\n",
       "      <td>0.977514</td>\n",
       "      <td>1</td>\n",
       "      <td>0</td>\n",
       "    </tr>\n",
       "    <tr>\n",
       "      <th>4945</th>\n",
       "      <td>Stand by me: bears adapt to hunting ban on family groups by keeping cubs longer</td>\n",
       "      <td>0.976766</td>\n",
       "      <td>1</td>\n",
       "      <td>0</td>\n",
       "    </tr>\n",
       "    <tr>\n",
       "      <th>4425</th>\n",
       "      <td>Man with no arms or legs forced to prove he can't work three times</td>\n",
       "      <td>0.976454</td>\n",
       "      <td>1</td>\n",
       "      <td>0</td>\n",
       "    </tr>\n",
       "    <tr>\n",
       "      <th>173</th>\n",
       "      <td>Middle-seat kid far from windows but closer to success</td>\n",
       "      <td>0.976095</td>\n",
       "      <td>1</td>\n",
       "      <td>0</td>\n",
       "    </tr>\n",
       "    <tr>\n",
       "      <th>3674</th>\n",
       "      <td>Dad unknowingly impregnated daughter, who worries how to tell their son his grandfather is his father</td>\n",
       "      <td>0.974730</td>\n",
       "      <td>1</td>\n",
       "      <td>0</td>\n",
       "    </tr>\n",
       "  </tbody>\n",
       "</table>\n",
       "</div>"
      ],
      "text/plain": [
       "                                                                                                                                 text  \\\n",
       "469                                                          I'm looking forward to grass now that my grandson is no longer a swinger   \n",
       "1009                                       110-year-old woman’s secret to long life: 3 Miller High Lifes and a shot of Johnnie Walker   \n",
       "1537  Don't know if Rush Limbaugh is an onion or not but: Rush Limbaugh: Al-Qaeda ‘Gave Up Osama Bin Laden’ To Make ‘Obama Look Good’   \n",
       "2851                                                Always wondered when I'd get a weird thing in my Facebook feed. Well, here it is!   \n",
       "7381                                                   Media Outlets Spitting Mad At Obama For Spoiling Their Plans To Cash In On War   \n",
       "4495                                                                   What a perfect pair! Puppies born GREEN for no apparent reason   \n",
       "4945                                                  Stand by me: bears adapt to hunting ban on family groups by keeping cubs longer   \n",
       "4425                                                               Man with no arms or legs forced to prove he can't work three times   \n",
       "173                                                                            Middle-seat kid far from windows but closer to success   \n",
       "3674                            Dad unknowingly impregnated daughter, who worries how to tell their son his grandfather is his father   \n",
       "\n",
       "      prob_onion  prediction  label  \n",
       "469     0.992526           1      0  \n",
       "1009    0.982999           1      0  \n",
       "1537    0.978596           1      0  \n",
       "2851    0.978507           1      0  \n",
       "7381    0.977992           1      0  \n",
       "4495    0.977514           1      0  \n",
       "4945    0.976766           1      0  \n",
       "4425    0.976454           1      0  \n",
       "173     0.976095           1      0  \n",
       "3674    0.974730           1      0  "
      ]
     },
     "execution_count": 21,
     "metadata": {},
     "output_type": "execute_result"
    }
   ],
   "source": [
    "not_onion.sort_values(by='prob_onion', ascending=False)[['text', 'prob_onion', 'prediction', 'label']].head(10)"
   ]
  },
  {
   "cell_type": "markdown",
   "metadata": {},
   "source": [
    "Future work could be done here here to see if there are any patterns."
   ]
  },
  {
   "cell_type": "markdown",
   "metadata": {},
   "source": [
    "# Appendix"
   ]
  },
  {
   "cell_type": "markdown",
   "metadata": {},
   "source": [
    "## Neural Network\n",
    "Neural networks are often good at finding patterns when there are many input variables. Here, however, it seems like it doesn't perform much better than Logistic Regression. With some hyperparameter tuning that could change, but I often favor simplicity over small gains in accuracy."
   ]
  },
  {
   "cell_type": "code",
   "execution_count": 22,
   "metadata": {
    "pycharm": {
     "name": "#%%\n"
    }
   },
   "outputs": [
    {
     "name": "stdout",
     "output_type": "stream",
     "text": [
      "Train on 22404 samples, validate on 7469 samples\n",
      "Epoch 1/10\n",
      "22404/22404 [==============================] - 6s 281us/step - loss: 0.5209 - accuracy: 0.8149 - val_loss: 0.4272 - val_accuracy: 0.8404\n",
      "Epoch 2/10\n",
      "22404/22404 [==============================] - 6s 264us/step - loss: 0.4202 - accuracy: 0.8406 - val_loss: 0.4423 - val_accuracy: 0.8230\n",
      "Epoch 3/10\n",
      "22404/22404 [==============================] - 6s 264us/step - loss: 0.3938 - accuracy: 0.8507 - val_loss: 0.3747 - val_accuracy: 0.8562\n",
      "Epoch 4/10\n",
      "22404/22404 [==============================] - 6s 263us/step - loss: 0.3783 - accuracy: 0.8549 - val_loss: 0.4269 - val_accuracy: 0.8277\n",
      "Epoch 5/10\n",
      "22404/22404 [==============================] - 6s 263us/step - loss: 0.3650 - accuracy: 0.8599 - val_loss: 0.4174 - val_accuracy: 0.8261\n",
      "Epoch 6/10\n",
      "22404/22404 [==============================] - 6s 264us/step - loss: 0.3536 - accuracy: 0.8648 - val_loss: 0.3583 - val_accuracy: 0.8587\n",
      "Epoch 7/10\n",
      "22404/22404 [==============================] - 6s 262us/step - loss: 0.3505 - accuracy: 0.8677 - val_loss: 0.3495 - val_accuracy: 0.8668\n",
      "Epoch 8/10\n",
      "22404/22404 [==============================] - 6s 280us/step - loss: 0.3460 - accuracy: 0.8688 - val_loss: 0.3721 - val_accuracy: 0.8538\n",
      "Epoch 9/10\n",
      "22404/22404 [==============================] - 6s 264us/step - loss: 0.3409 - accuracy: 0.8728 - val_loss: 0.3532 - val_accuracy: 0.8656\n",
      "Epoch 10/10\n",
      "22404/22404 [==============================] - 6s 264us/step - loss: 0.3385 - accuracy: 0.8726 - val_loss: 0.3526 - val_accuracy: 0.8648\n"
     ]
    },
    {
     "data": {
      "text/plain": [
       "<keras.callbacks.callbacks.History at 0x1fa89fd71c8>"
      ]
     },
     "execution_count": 22,
     "metadata": {},
     "output_type": "execute_result"
    }
   ],
   "source": [
    "nn_model = Sequential()\n",
    "nn_model.add(Dense(units=128, activation='relu', kernel_regularizer=l2(0.001), input_dim=771))\n",
    "nn_model.add(Dense(units=128, activation='relu', kernel_regularizer=l2(0.001)))\n",
    "nn_model.add(Dense(units=128, activation='relu', kernel_regularizer=l2(0.001)))\n",
    "nn_model.add(Dense(units=1, activation='sigmoid'))\n",
    "nn_model.compile(loss='binary_crossentropy', optimizer='adam', metrics=['accuracy'])\n",
    "\n",
    "nn_model.fit(train_features, train_labels, epochs=10, batch_size=16,\n",
    "          validation_data=(test_features, test_labels), callbacks=[EarlyStopping(patience=3, monitor='val_loss')])"
   ]
  },
  {
   "cell_type": "markdown",
   "metadata": {
    "pycharm": {
     "name": "#%%\n"
    }
   },
   "source": [
    "## Enter your own title\n",
    "You can enter your own title and the classifier will hopefully tell you how good you are at impersonating the Onion"
   ]
  },
  {
   "cell_type": "code",
   "execution_count": 24,
   "metadata": {
    "pycharm": {
     "name": "#%%\n"
    }
   },
   "outputs": [
    {
     "name": "stdout",
     "output_type": "stream",
     "text": [
      "The classifier is 95.7% sure this is The Onion\n",
      "The classifier is 86.4% sure this is The Onion\n",
      "The classifier is 98.7% sure this is Not The Onion\n"
     ]
    }
   ],
   "source": [
    "def predict_onion(headline: str, dbm):\n",
    "    headline = headline.lower()\n",
    "    tknzd = db_tokenizer.tokenize(headline, add_special_tokens=True)\n",
    "    encd = np.array([db_tokenizer.encode(tknzd)])\n",
    "    inputs = torch.tensor(encd).to(torch.int64)\n",
    "\n",
    "    with torch.no_grad():\n",
    "        last_hid_state = db_model(inputs)\n",
    "        embed = last_hid_state[0][:,0,:].numpy()\n",
    "        df = pd.DataFrame(embed)\n",
    "        df.insert(0, 'num_words', num_words(headline))\n",
    "        df.insert(1, 'contains_onion', contains_onion(headline))\n",
    "        df.insert(2, 'readability', readability(headline))\n",
    "        pred = dbm.predict_proba(df)[0][0]\n",
    "        if pred < .5:\n",
    "            print(f'The classifier is {100*(1-pred):.1f}% sure this is The Onion')\n",
    "        else:\n",
    "            print(f'The classifier is {100*pred:.1f}% sure this is Not The Onion')\n",
    "\n",
    "predict_onion(\"Nation's dogs loving whatever's going on right now\", db_lr_clf)\n"
   ]
  }
 ],
 "metadata": {
  "kernelspec": {
   "display_name": "Python 3",
   "language": "python",
   "name": "python3"
  },
  "language_info": {
   "codemirror_mode": {
    "name": "ipython",
    "version": 3
   },
   "file_extension": ".py",
   "mimetype": "text/x-python",
   "name": "python",
   "nbconvert_exporter": "python",
   "pygments_lexer": "ipython3",
   "version": "3.7.6"
  }
 },
 "nbformat": 4,
 "nbformat_minor": 1
}
